{
 "cells": [
  {
   "cell_type": "markdown",
   "id": "1d13cd98",
   "metadata": {},
   "source": [
    "# MEMPERHALUS dan BLURRING PADA CITRA\n",
    "\n",
    "\n",
    "### Pada dasarnya efek Memperhalus dan Blurring pada citra memanfaatkan konvulusi. \n",
    "### Konvolusi didefinisikan sebagai proses untuk memperoleh suatu piksel didasarkan pada nilai piksel itu sendiri dan tetangganya, dengan melibatkan suatu matriks yang disebut kernel yang merepresentasikan pembobotan.\n",
    "\n",
    "![alt text](Gambar_Kernel.png \"Title\")\n",
    "\n"
   ]
  },
  {
   "cell_type": "markdown",
   "id": "a8270d69",
   "metadata": {},
   "source": [
    "### 1. filter2D\n",
    "\n",
    "OpenCV menyediakan fungsi, cv2.filter2D (), untuk menghubungkan kernel dengan sebuah image. Sebagai contoh, Kernel filter rata-rata 5x5 dapat didefinisikan sebagai berikut.\n",
    "\n",
    "![alt text](gambar_filter2D.png \"Title\")\n",
    "\n",
    "Pemfilteran dengan hasil kernel di atas dilakukan sebagai berikut: untuk setiap piksel, jendela 5x5 dipusatkan pada piksel ini, semua piksel yang termasuk dalam jendela ini dijumlahkan, dan hasilnya kemudian dibagi 25. Ini sama dengan menghitung rata-rata dari nilai piksel di dalam jendela itu.\n",
    "\n",
    "dst = cv.[filter2D](https://docs.opencv.org/3.4/d4/d86/group__imgproc__filter.html#ga27c049795ce870216ddfb366086b5a04)(\tsrc, ddepth, kernel[, dst[, anchor[, delta[, borderType]]]]\t)\n",
    "- dst: citra output\n",
    "- scr: citra input\n",
    "- ddepth: kedalaman yang diinginkan dari citra tujuan\n",
    "- kernel: kernel konvolusi (atau lebih tepatnya kernel korelasi)\n",
    "- anchor: menunjukkan posisi relatif dari titik yang difilter di dalam kernel; anchor harus terletak di dalam kernel; nilai\n",
    "  default (-1, -1) berarti jangkar berada di pusat kernel\n",
    "- delta: nilai opsional yang ditambahkan ke piksel yang difilter sebelum menyimpannya di dst\n",
    "- borderType: metode ekstrapolasi piksel, lihat [BorderTypes](https://docs.opencv.org/3.4/d2/de8/group__core__array.html#ga209f2f4869e304c82d07739337eae7c5).\n",
    "  \n",
    "\n"
   ]
  },
  {
   "cell_type": "code",
   "execution_count": 1,
   "id": "309009a8",
   "metadata": {},
   "outputs": [],
   "source": [
    "import numpy as np\n",
    "import cv2 \n",
    "from matplotlib import pyplot as plt\n",
    "gambar = cv2.imread('Lena_Noise.png')"
   ]
  },
  {
   "cell_type": "code",
   "execution_count": 2,
   "id": "d0eaaf6a",
   "metadata": {},
   "outputs": [],
   "source": [
    "# buat kernel\n",
    "kernel=np.ones((3,3),np.float32)/9\n",
    "gambar_filter2d=cv2.filter2D(gambar,-1,kernel)"
   ]
  },
  {
   "cell_type": "code",
   "execution_count": null,
   "id": "d1798d8f",
   "metadata": {},
   "outputs": [],
   "source": [
    "cv2.imshow('Gambar Asli',gambar)\n",
    "cv2.imshow('Gambar Filter2D', gambar_filter2d)\n",
    "cv2.waitKey()\n",
    "cv2.destroyAllWindows()"
   ]
  },
  {
   "cell_type": "code",
   "execution_count": 4,
   "id": "ad12b759",
   "metadata": {},
   "outputs": [],
   "source": [
    "# buat kernel\n",
    "kernel2=np.ones((6,6),np.float32)/36\n",
    "gambar_filter2d2=cv2.filter2D(gambar,-1,kernel2)"
   ]
  },
  {
   "cell_type": "code",
   "execution_count": 18,
   "id": "f3376450",
   "metadata": {},
   "outputs": [],
   "source": [
    "cv2.imshow('Gambar Filter2D (3,3)',gambar_filter2d)\n",
    "cv2.imshow('Gambar Filter2D (6,6)', gambar_filter2d2)\n",
    "cv2.waitKey()\n",
    "cv2.destroyAllWindows()"
   ]
  },
  {
   "cell_type": "code",
   "execution_count": 7,
   "id": "b05a5196",
   "metadata": {},
   "outputs": [],
   "source": [
    "gambar_hori=np.concatenate((gambar,gambar_filter2d,gambar_filter2d2),axis=1)\n",
    "\n",
    "cv2.imshow('Perbandingan Gambar Asli, filter (3,3,9) dan filter (6,6,36)',gambar_hori)\n",
    "cv2.waitKey(0)\n",
    "cv2.destroyAllWindows()"
   ]
  },
  {
   "cell_type": "markdown",
   "id": "59814129",
   "metadata": {},
   "source": [
    "### 2. gaussianBlur\n",
    "\n",
    "Dalam pendekatan ini, filter kotak yang terdiri dari koefisien filter yang sama, digunakan kernel Gaussian. Itu dilakukan dengan fungsi, cv2.GaussianBlur (). Tentukan lebar dan tinggi kernel yang harus bernilai positif dan ganjil. Tenentukan deviasi standar dalam arah X dan Y, sigmaX dan sigmaY masing-masing. Jika hanya sigmaX yang ditentukan, sigmaY dianggap sama dengan sigmaX. Jika keduanya diberikan sebagai nol, mereka dihitung dari ukuran kernel. Pemfilteran Gaussian sangat efektif dalam menghilangkan noise Gaussian dari gambar.\n",
    "\n",
    "dst\t= cv.[GaussianBlur()](https://docs.opencv.org/master/d4/d86/group__imgproc__filter.html#gaabe8c836e97159a9193fb0b11ac52cf1)(\tsrc, ksize, sigmaX[, dst[, sigmaY[, borderType]]])\n",
    "- dst: citra output\n",
    "- scr: citra input\n",
    "- ksize: gaussian kernel size\n",
    "- sigmaX: gaussian standar deviasi pada x\n",
    "- sigmaY: gaussian standar deviasi pada y. jika bernilai 0, standar deviasi sama dengan sigmaY \n",
    "- borderType: metode ekstrapolasi piksel, lihat [BorderTypes](https://docs.opencv.org/3.4/d2/de8/group__core__array.html#ga209f2f4869e304c82d07739337eae7c5)."
   ]
  },
  {
   "cell_type": "code",
   "execution_count": 8,
   "id": "db7d4b44",
   "metadata": {},
   "outputs": [],
   "source": [
    "# gausian kernel d(3,3) dengan deviasi 0\n",
    "gaussianblur_gambar=cv2.GaussianBlur(gambar,(3,3),0)"
   ]
  },
  {
   "cell_type": "code",
   "execution_count": 9,
   "id": "e26670c4",
   "metadata": {},
   "outputs": [],
   "source": [
    "cv2.imshow('Gambar Asli', gambar)\n",
    "cv2.imshow('Gambar Gausian Blur', gaussianblur_gambar)\n",
    "cv2.waitKey()\n",
    "cv2.destroyAllWindows()"
   ]
  },
  {
   "cell_type": "code",
   "execution_count": 10,
   "id": "5611d0cc",
   "metadata": {},
   "outputs": [],
   "source": [
    "# gausian kernel d(9,9) dengan deviasi 0\n",
    "gaussianblur_gambar2=cv2.GaussianBlur(gambar,(9,9),0)"
   ]
  },
  {
   "cell_type": "code",
   "execution_count": 11,
   "id": "fe14e311",
   "metadata": {},
   "outputs": [],
   "source": [
    "cv2.imshow('Gambar Gausian Blur (3,3)', gaussianblur_gambar)\n",
    "cv2.imshow('Gambar Gausian Blur (9,9)', gaussianblur_gambar2)\n",
    "cv2.waitKey()\n",
    "cv2.destroyAllWindows()"
   ]
  },
  {
   "cell_type": "code",
   "execution_count": 17,
   "id": "5f5f4529",
   "metadata": {},
   "outputs": [],
   "source": [
    "gambar_hori=np.concatenate((gambar,gaussianblur_gambar,gaussianblur_gambar2),axis=1)\n",
    "\n",
    "cv2.imshow('Perbandingan Gambar Asli, gaussianblur (3,3) dan gaussianblur (9,9)',gambar_hori)\n",
    "cv2.waitKey(0)\n",
    "cv2.destroyAllWindows()"
   ]
  }
 ],
 "metadata": {
  "kernelspec": {
   "display_name": "vision",
   "language": "python",
   "name": "vision"
  },
  "language_info": {
   "codemirror_mode": {
    "name": "ipython",
    "version": 3
   },
   "file_extension": ".py",
   "mimetype": "text/x-python",
   "name": "python",
   "nbconvert_exporter": "python",
   "pygments_lexer": "ipython3",
   "version": "3.8.8"
  }
 },
 "nbformat": 4,
 "nbformat_minor": 5
}
