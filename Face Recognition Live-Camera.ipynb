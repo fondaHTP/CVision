{
 "cells": [
  {
   "cell_type": "markdown",
   "metadata": {},
   "source": [
    "# Import libraries"
   ]
  },
  {
   "cell_type": "code",
   "execution_count": 17,
   "metadata": {},
   "outputs": [],
   "source": [
    "import numpy as np\n",
    "import cv2\n",
    "import os"
   ]
  },
  {
   "cell_type": "markdown",
   "metadata": {},
   "source": [
    "# 1 Membuat Training Data"
   ]
  },
  {
   "cell_type": "code",
   "execution_count": 18,
   "metadata": {},
   "outputs": [],
   "source": [
    "# Baca LBP Cascade\n",
    "lbpcascade_frontalface = 'lbpcascades/lbpcascade_frontalface.xml'"
   ]
  },
  {
   "cell_type": "code",
   "execution_count": 19,
   "metadata": {},
   "outputs": [],
   "source": [
    "# fungsi deteksi wajah pada opencv\n",
    "def detek_wajah(input_gbr):\n",
    "    # konversi gambar ke kabuan\n",
    "    gbr = cv2.cvtColor(input_gbr, cv2.COLOR_BGR2GRAY)\n",
    "    \n",
    "    # klasifikasi cascade\n",
    "    cascade_wajah = cv2.CascadeClassifier(lbpcascade_frontalface)\n",
    "    \n",
    "    # deteksi dengan multiscale \n",
    "    wajah = cascade_wajah.detectMultiScale(gbr, scaleFactor=1.1, minNeighbors=4);\n",
    "    \n",
    "    #jika tidak ada wajah terdeteksi kembali ke gambar yang asli\n",
    "    if (len(wajah) == 0):\n",
    "        return None, None\n",
    "    \n",
    "    # ekstrak area wajah\n",
    "    (x, y, w, h) = wajah[0]\n",
    "    # kembalikan hanya bagian wajah dari gambar\n",
    "    return gbr[y:y+w, x:x+h], wajah[0]"
   ]
  },
  {
   "cell_type": "markdown",
   "metadata": {},
   "source": [
    "## Membuat Persegi untuk Input Deteksi Wajah"
   ]
  },
  {
   "cell_type": "code",
   "execution_count": 20,
   "metadata": {},
   "outputs": [],
   "source": [
    "def gbr_persegi(gbr, persegi):\n",
    "    # gambar persegi pada wajah yang terdeteksi\n",
    "    (x, y, w, h) = persegi\n",
    "    cv2.rectangle(gbr, (x, y), (x+w, y+h), (0, 255, 0), 2)\n",
    "\n",
    "def gbr_text(gbr, text, x, y):\n",
    "    # tampilkana tek pada wajah yang terdeteksi\n",
    "        cv2.putText(gbr, text, (x, y), cv2.FONT_HERSHEY_PLAIN, 1.5, (0, 255, 0), 2)"
   ]
  },
  {
   "cell_type": "markdown",
   "metadata": {},
   "source": [
    "# 2. Membuat Training Data"
   ]
  },
  {
   "cell_type": "markdown",
   "metadata": {},
   "source": [
    "## Merekam Wajah Untuk Training Data"
   ]
  },
  {
   "cell_type": "code",
   "execution_count": 23,
   "metadata": {},
   "outputs": [],
   "source": [
    "# buka webcam dan baca setiap frame. Setiap frame melewati fungsi deteksi wajah dan\n",
    "# wajah yang terdeteksi disimpan dalam folder yang akan digunakan untuk pelatihan\n",
    "\n",
    "video = cv2.VideoCapture(0)\n",
    "jumlah = 0\n",
    "while True:\n",
    "    ret, frame = video.read()\n",
    "    wajah_pilih, persegi = detek_wajah(frame)\n",
    "    if wajah_pilih is not None:\n",
    "        jumlah +=1\n",
    "        gbr_persegi(frame, persegi)\n",
    "        # change the folder path as per requirement\n",
    "        cv2.imwrite(\"rekam_wajah/0/\"+str(jumlah)+ \".jpg\", wajah_pilih)\n",
    "    cv2.imshow(\"frame\", frame)\n",
    "    # Escape untuk keluar\n",
    "    if cv2.waitKey(1)==27:\n",
    "        break\n",
    "video.release()\n",
    "cv2.destroyAllWindows() "
   ]
  },
  {
   "cell_type": "code",
   "execution_count": 29,
   "metadata": {},
   "outputs": [],
   "source": [
    "# Baca gambar dari folder dan siapkan set pelatihan dan label masing-masing\n",
    "deteksi_wajah = []\n",
    "label_wajah = []\n",
    "\n",
    "def prepare_training_data(path_training_data):\n",
    "    \n",
    "    # baca gambar dari folder dan siapkan set data pelatihan\n",
    "    #  mengembalikan daftar wajah dan label yang terdeteksi\n",
    "    \n",
    "    gambar_training = os.listdir(path_training_data)\n",
    "    for nama_di_direktori in gambar_training:\n",
    "        label = int(nama_di_direktori)\n",
    "        path_training_gbr = path_training_data + \"/\" + nama_di_direktori\n",
    "        nama_training_gbr = os.listdir(path_training_gbr)\n",
    "        for image_name in nama_training_gbr:\n",
    "            gbr_path = path_training_gbr  + \"/\" + image_name\n",
    "            gambar = cv2.imread(gbr_path, 0)\n",
    "            deteksi_wajah.append(gambar)\n",
    "            label_wajah.append(label)\n",
    "\n",
    "    return deteksi_wajah, label_wajah"
   ]
  },
  {
   "cell_type": "code",
   "execution_count": 30,
   "metadata": {},
   "outputs": [],
   "source": [
    "deteksi_wajah, label_wajah = prepare_training_data('rekam_wajah')"
   ]
  },
  {
   "cell_type": "code",
   "execution_count": 31,
   "metadata": {},
   "outputs": [
    {
     "name": "stdout",
     "output_type": "stream",
     "text": [
      "Total wajah:  29\n",
      "Total label:  29\n"
     ]
    }
   ],
   "source": [
    "# print total label dan wajah yang di training\n",
    "print(\"Total wajah: \", len(deteksi_wajah))\n",
    "print(\"Total label: \", len(label_wajah))"
   ]
  },
  {
   "cell_type": "code",
   "execution_count": 32,
   "metadata": {},
   "outputs": [],
   "source": [
    "# buat pengenal wajah LBPH\n",
    "lbphfaces_recognizer = cv2.face. LBPHFaceRecognizer_create(radius=2, neighbors=8)\n",
    "# latih pengenalan wajah dari wajah latihan \n",
    "lbphfaces_recognizer.train(deteksi_wajah, np.array(label_wajah))"
   ]
  },
  {
   "cell_type": "markdown",
   "metadata": {},
   "source": [
    "# 3. Jalankan Pengenalan Wajah"
   ]
  },
  {
   "cell_type": "code",
   "execution_count": 34,
   "metadata": {},
   "outputs": [],
   "source": [
    "# buka webcam, baca setiap frame dan berikan ke model terlatih. \n",
    "# Untuk prediksi biner: Jika nilai keyakinan prediksi kurang dari nilai ambang batas \n",
    "# maka atur teks label sama dengan nama pengguna  selain itu tidak diketahui. \n",
    "# Untuk prediksi multikelas: atur label_text ke label\n",
    "\n",
    "video = cv2.VideoCapture(0)\n",
    "\n",
    "while True:\n",
    "    ret, frame = video.read()\n",
    "    wajah_pilih, persegi = detek_wajah(frame)\n",
    "    \n",
    "    if wajah_pilih is not None:\n",
    "        label= lbphfaces_recognizer.predict(wajah_pilih)\n",
    "        tags = ['Saya', 'Nanda']\n",
    "        if label[1]<75:\n",
    "            \n",
    "            label_text = tags[label[0]]\n",
    "        else: \n",
    "            label_text = 'Tidak dikenal'\n",
    "        gbr_persegi(frame, persegi)\n",
    "        if label[1]<75:\n",
    "            gbr_text(frame, label_text, persegi[0], persegi[1]-5)\n",
    "        else:\n",
    "            gbr_text(frame, label_text, persegi[0], persegi[1]-5)\n",
    "    cv2.imshow(\"frame\", frame)\n",
    "    #escape untuk keluar\n",
    "    if cv2.waitKey(1)==27:\n",
    "        break\n",
    "video.release()\n",
    "cv2.destroyAllWindows()"
   ]
  }
 ],
 "metadata": {
  "kernelspec": {
   "display_name": "Python 3",
   "language": "python",
   "name": "python3"
  },
  "language_info": {
   "codemirror_mode": {
    "name": "ipython",
    "version": 3
   },
   "file_extension": ".py",
   "mimetype": "text/x-python",
   "name": "python",
   "nbconvert_exporter": "python",
   "pygments_lexer": "ipython3",
   "version": "3.8.8"
  }
 },
 "nbformat": 4,
 "nbformat_minor": 2
}
