{
 "cells": [
  {
   "cell_type": "code",
   "execution_count": 1,
   "id": "bc3eb82d",
   "metadata": {},
   "outputs": [],
   "source": [
    "# Import Library\n",
    "import cv2\n",
    "import numpy as np\n",
    "from os import listdir\n",
    "from os.path import isfile, join\n",
    "from pathlib import Path\n",
    "import numpy"
   ]
  },
  {
   "cell_type": "code",
   "execution_count": 2,
   "id": "56f1b4d9",
   "metadata": {},
   "outputs": [],
   "source": [
    "# cari seluruh gambar yang ada di folder\n",
    "mypath = './data1/training-data/1/' \n",
    "onlyfiles = [f for f in listdir(mypath) if isfile(join(mypath, f))]\n",
    "images = numpy.empty(len(onlyfiles), dtype=object)"
   ]
  },
  {
   "cell_type": "code",
   "execution_count": 3,
   "id": "3c5467eb",
   "metadata": {},
   "outputs": [
    {
     "name": "stdout",
     "output_type": "stream",
     "text": [
      "Konversi keabuan sukses\n"
     ]
    }
   ],
   "source": [
    "# Iterasi seluruh gambar\n",
    "# ubah gambar ke abuan\n",
    "\n",
    "\n",
    "for n in range(0, len(onlyfiles)):\n",
    "\n",
    "\tpath = join(mypath, onlyfiles[n])\n",
    "\timages[n] = cv2.imread(join(mypath, onlyfiles[n]), cv2.IMREAD_UNCHANGED)\n",
    "\n",
    "\t# Load the image in img variable\n",
    "\timg = cv2.imread(path, cv2.IMREAD_GRAYSCALE)\n",
    "\n",
    "\n",
    "\tgbrbaru1 = img\n",
    " \n",
    "\tcv2.imwrite(\n",
    "\t'./data1/training-data/1/' + str(n) + '_abu.jpg', gbrbaru1)\n",
    "\n",
    "print(\"Konversi keabuan sukses\")"
   ]
  },
  {
   "cell_type": "code",
   "execution_count": null,
   "id": "8794ab0d",
   "metadata": {},
   "outputs": [],
   "source": []
  }
 ],
 "metadata": {
  "kernelspec": {
   "display_name": "vision",
   "language": "python",
   "name": "vision"
  },
  "language_info": {
   "codemirror_mode": {
    "name": "ipython",
    "version": 3
   },
   "file_extension": ".py",
   "mimetype": "text/x-python",
   "name": "python",
   "nbconvert_exporter": "python",
   "pygments_lexer": "ipython3",
   "version": "3.7.13"
  }
 },
 "nbformat": 4,
 "nbformat_minor": 5
}
