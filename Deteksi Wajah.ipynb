{
 "cells": [
  {
   "cell_type": "markdown",
   "id": "9a974285",
   "metadata": {},
   "source": [
    "# Deteksi Wajah dengan  Haar Cascades\n",
    "\n",
    "## Deteksi Objek menggunakan pengklasifikasi kaskade berbasis fitur Haar adalah metode deteksi objek efektif yang diusulkan oleh Paul Viola dan Michael Jones. Metode ini  adalah pendekatan berbasis pembelajaran mesin di mana a fungsi cascade dilatih dari banyak gambar positif dan negatif. Ini kemudian digunakan untuk mendeteksi objek dalam gambar lain.\n",
    "\n",
    "### Langkah dalam proses openCV adalah:\n",
    "- Gambar -> Konversi ke abuan -> Download Cascade model xml file -> Masukkan Gambar -> Deteksi MultiScale\n",
    "\n",
    "### detectedObjects = cv2.CascadeClassifier.detectMultiScale(image, [scaleFactor, minNeighbors, flags, minSize, maxSize])\n",
    "\n",
    "- scaleFactor memutuskan sejauh mana gambar akan diubah ukurannya pada setiap iterasi. Ini membantu dalam mendeteksi wajah dengan ukuran berbeda yang ada dalam gambar masukan.\n",
    "- minNeighbors adalah argumen lain yang memutuskan jumlah minimum persegi tetangga yang harus dipertimbangkan untuk dideteksi. minSize dan maxSize menentukan ukuran minimum dan maksimum wajah yang akan dideteksi. Setiap wajah dengan ukuran yang terletak di luar kisaran ini akan diabaikan.\n",
    "- Output dari fungsi ini adalah daftar persegi panjang (atau kotak pembatas) yang berisi wajah yang ada dalam gambar. Kita dapat menggunakan fungsi menggambar OpenCV – cv2.rectangle – untuk menggambar persegi panjang ini pada gambar"
   ]
  },
  {
   "cell_type": "code",
   "execution_count": 61,
   "id": "6163df21",
   "metadata": {},
   "outputs": [],
   "source": [
    "import cv2\n",
    "import numpy as np\n",
    "lena = 'lena512color.jpg'\n",
    "italy = 'azury squad.jpg'"
   ]
  },
  {
   "cell_type": "code",
   "execution_count": 62,
   "id": "fea5ca4b",
   "metadata": {},
   "outputs": [],
   "source": [
    "haarCascadePath = \"D:\\Latihan C.Vision\\haarcascades\\haarcascade_frontalface_default.xml\"\n",
    "input_lena = cv2.imread(lena)\n",
    "input_italy = cv2.imread(italy)"
   ]
  },
  {
   "cell_type": "code",
   "execution_count": 63,
   "id": "b848881c",
   "metadata": {},
   "outputs": [],
   "source": [
    "lena_keabuan = cv2.cvtColor(input_lena, cv2.COLOR_BGR2GRAY)\n",
    "Italy_keabuan = cv2.cvtColor(input_italy, cv2.COLOR_BGR2GRAY)"
   ]
  },
  {
   "cell_type": "code",
   "execution_count": 64,
   "id": "e80def57",
   "metadata": {},
   "outputs": [],
   "source": [
    "haarCascade = cv2.CascadeClassifier(haarCascadePath)"
   ]
  },
  {
   "cell_type": "code",
   "execution_count": 67,
   "id": "19e5d521",
   "metadata": {},
   "outputs": [],
   "source": [
    "def detect_face(gbr):\n",
    "    \n",
    "  \n",
    "    face_gbr = gbr.copy()\n",
    "  \n",
    "    face_rects = haarCascade.detectMultiScale(face_gbr,scaleFactor=1.2, minNeighbors=5) \n",
    "    \n",
    "    for (x,y,w,h) in face_rects: \n",
    "        cv2.rectangle(face_gbr, (x,y), (x+w,y+h), (255,255,255), 5) \n",
    "        \n",
    "    return face_gbr"
   ]
  },
  {
   "cell_type": "code",
   "execution_count": 68,
   "id": "4ea250bb",
   "metadata": {},
   "outputs": [],
   "source": [
    "cv2.imshow(\"Faces Detected\", detect_face(input_lena))\n",
    "\n",
    "cv2.waitKey(0)\n",
    "\n",
    "cv2.destroyAllWindows()"
   ]
  },
  {
   "cell_type": "code",
   "execution_count": 69,
   "id": "1819fe66",
   "metadata": {},
   "outputs": [],
   "source": [
    "cv2.imshow(\"Faces Detected\", detect_face(input_italy))\n",
    "\n",
    "cv2.waitKey(0)\n",
    "\n",
    "cv2.destroyAllWindows()"
   ]
  },
  {
   "cell_type": "markdown",
   "id": "020c1b88",
   "metadata": {},
   "source": [
    "## Menggunakan Video"
   ]
  },
  {
   "cell_type": "code",
   "execution_count": 30,
   "id": "de7d5b42",
   "metadata": {},
   "outputs": [],
   "source": [
    "cap = cv2.VideoCapture(0) \n",
    "\n",
    "while True: \n",
    "    \n",
    "    ret, frame = cap.read(0) \n",
    "     \n",
    "    frame = detect_face(frame)\n",
    " \n",
    "    cv2.imshow('Video Face Detection', frame) \n",
    " \n",
    "    c = cv2.waitKey(1) \n",
    "    if c == 27: \n",
    "        break \n",
    "        \n",
    "cap.release() \n",
    "cv2.destroyAllWindows()"
   ]
  },
  {
   "cell_type": "code",
   "execution_count": null,
   "id": "27163707",
   "metadata": {},
   "outputs": [],
   "source": []
  }
 ],
 "metadata": {
  "kernelspec": {
   "display_name": "vision",
   "language": "python",
   "name": "vision"
  },
  "language_info": {
   "codemirror_mode": {
    "name": "ipython",
    "version": 3
   },
   "file_extension": ".py",
   "mimetype": "text/x-python",
   "name": "python",
   "nbconvert_exporter": "python",
   "pygments_lexer": "ipython3",
   "version": "3.8.8"
  }
 },
 "nbformat": 4,
 "nbformat_minor": 5
}
