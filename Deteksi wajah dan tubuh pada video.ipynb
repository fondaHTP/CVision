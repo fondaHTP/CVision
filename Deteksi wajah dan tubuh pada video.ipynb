{
 "cells": [
  {
   "cell_type": "markdown",
   "id": "c6399c47",
   "metadata": {},
   "source": [
    "# DETEKSI WAJAH LIVE KAMERA DAN VIDEO\n",
    "\n",
    "### cv2.VideoCapture() \n",
    "\n",
    "Langkah-langkah untuk merekam video:\n",
    "\n",
    "- Gunakan cv2.VideoCapture() untuk mendapatkan objek pengambilan video untuk kamera.\n",
    "- Siapkan loop while tak terbatas dan gunakan metode read() untuk membaca frame menggunakan objek yang dibuat di atas.\n",
    "- Gunakan metode cv2.imshow() untuk menampilkan frame dalam video.\n",
    "- Memutus loop ketika pengguna mengklik kunci tertentu.\n",
    "\n",
    "### detectedObjects = cv2.CascadeClassifier.detectMultiScale(image, [scaleFactor, minNeighbors, flags, minSize, maxSize])\n",
    "\n",
    "- scaleFactor memutuskan sejauh mana gambar akan diubah ukurannya pada setiap iterasi. Ini membantu dalam mendeteksi wajah dengan ukuran berbeda yang ada dalam gambar masukan.\n",
    "- minNeighbors adalah argumen lain yang memutuskan jumlah minimum persegi tetangga yang harus dipertimbangkan untuk dideteksi. minSize dan maxSize menentukan ukuran minimum dan maksimum wajah yang akan dideteksi. Setiap wajah dengan ukuran yang terletak di luar kisaran ini akan diabaikan.\n",
    "- Output dari fungsi ini adalah daftar persegi panjang (atau kotak pembatas) yang berisi wajah yang ada dalam gambar. Kita dapat menggunakan fungsi menggambar OpenCV – cv2.rectangle – untuk menggambar persegi panjang ini pada gambar"
   ]
  },
  {
   "cell_type": "code",
   "execution_count": 1,
   "id": "1b7dd420",
   "metadata": {},
   "outputs": [],
   "source": [
    "import cv2\n",
    "import numpy as np"
   ]
  },
  {
   "cell_type": "code",
   "execution_count": 2,
   "id": "911dce0e",
   "metadata": {},
   "outputs": [],
   "source": [
    "# baca path folder haarcascade\n",
    "haarcascadepath='..\\haarcascades\\haarcascade_frontalface_default.xml'\n",
    "\n",
    "# aktifkan harhascade clasifieer\n",
    "haarcascade=cv2.CascadeClassifier(haarcascadepath)"
   ]
  },
  {
   "cell_type": "code",
   "execution_count": 3,
   "id": "bc7fe7ea",
   "metadata": {},
   "outputs": [],
   "source": [
    "# buat video\n",
    "video= cv2.VideoCapture(0)\n",
    "fourcc = cv2.VideoWriter_fourcc(*'MJPG')\n",
    "simpan = cv2.VideoWriter('video_rekam_simpan.avi',fourcc,20.0, (640,480))\n",
    "\n",
    "while True:\n",
    "    # baca frame demi frame\n",
    "    ret, frame = video.read(0)\n",
    "    \n",
    "    # konversi ke gray\n",
    "    keabuan = cv2.cvtColor(frame,cv2.COLOR_BGR2GRAY)\n",
    "    \n",
    "    # proses pendeteksian dengan detectMultiscale\n",
    "    face_detect=haarcascade.detectMultiScale(keabuan,scaleFactor=1.2, minNeighbors=2)\n",
    "    \n",
    "    # buat persegi (rectangle)\n",
    "    for face in face_detect:\n",
    "        x, y,w,h = face\n",
    "        cv2.rectangle(frame, (x,y), (x+w, y+h), (0,255,255),2)\n",
    "    \n",
    "    # simpan video\n",
    "    simpan.write(frame)\n",
    "    \n",
    "    # tampilkan frame video\n",
    "    cv2.imshow('Video Deteksi Wajah', frame)\n",
    "    \n",
    "    # tekan ESC untuk keluar\n",
    "    if cv2.waitKey(1)==27:\n",
    "        break\n",
    "# release video\n",
    "video.release()\n",
    "# tutup semua frame\n",
    "cv2.destroyAllWindows()"
   ]
  },
  {
   "cell_type": "markdown",
   "id": "ae6d311c",
   "metadata": {},
   "source": [
    "## DETEKSI TUBUH PADA VIDEO"
   ]
  },
  {
   "cell_type": "code",
   "execution_count": 4,
   "id": "85748796",
   "metadata": {},
   "outputs": [],
   "source": [
    "# baca path folder haarcascade\n",
    "haarcascadepath1='..\\haarcascades\\haarcascade_fullbody.xml'\n",
    "\n",
    "# aktifkan harhascade clasifieer\n",
    "haarcascade=cv2.CascadeClassifier(haarcascadepath1)"
   ]
  },
  {
   "cell_type": "code",
   "execution_count": 5,
   "id": "6360c14d",
   "metadata": {},
   "outputs": [],
   "source": [
    "# buat video\n",
    "video= cv2.VideoCapture('Walking.avi')\n",
    "\n",
    "while True:\n",
    "    # baca frame demi frame\n",
    "    ret, frame = video.read()\n",
    "    \n",
    "    # konversi ke gray\n",
    "    keabuan = cv2.cvtColor(frame,cv2.COLOR_BGR2GRAY)\n",
    "    \n",
    "    # proses pendeteksian dengan detectMultiscale\n",
    "    face_detect=haarcascade.detectMultiScale(keabuan,scaleFactor=1.1, minNeighbors=2)\n",
    "    \n",
    "    # buat persegi (rectangle)\n",
    "    for face in face_detect:\n",
    "        x, y,w,h = face\n",
    "        cv2.rectangle(frame, (x,y), (x+w, y+h), (0,255,255),2)\n",
    "        \n",
    "    if ret == True:\n",
    "        # tampilkan frame video\n",
    "        cv2.imshow('frame', frame)\n",
    "    \n",
    "        # tekan ESC untuk keluar\n",
    "        if cv2.waitKey(1)==27:\n",
    "            break\n",
    "    else:\n",
    "        break\n",
    "# release video\n",
    "video.release()\n",
    "# tutup semua frame\n",
    "cv2.destroyAllWindows()"
   ]
  },
  {
   "cell_type": "markdown",
   "id": "3e75d7e7",
   "metadata": {},
   "source": [
    "# MEREKAN GAMBAR VIDEO\n",
    "\n",
    "Kali ini kita membuat objek VideoWriter. Kita harus menentukan nama file output (misalnya: Video_Simpan.avi). Kemudian kita harus menentukan kode FourCC. Kemudian jumlah frame per detik (fps) dan ukuran frame harus dilewati. Dan yang terakhir adalah bendera isColor. Jika Benar, encoder mengharapkan bingkai warna, jika tidak, ia bekerja dengan bingkai skala abu-abu.\n",
    "\n",
    "FourCC adalah kode 4-byte yang digunakan untuk menentukan codec video. Daftar kode yang tersedia dapat ditemukan di fourcc.org. Ini tergantung pada platform. Codec berikut berfungsi dengan baik untuk saya.\n",
    "\n",
    "Di Fedora: DIVX, XVID, MJPG, X264, WMV1, WMV2. (XVID lebih disukai. MJPG menghasilkan video ukuran tinggi. X264 memberikan video ukuran sangat kecil)\n",
    "Di Windows: DIVX (Lebih banyak untuk diuji dan ditambahkan)\n",
    "Di OSX: MJPG (.mp4), DIVX (.avi), X264 (.mkv).\n",
    "Kode FourCC diteruskan sebagai `cv.VideoWriter_fourcc('M','J','P','G')atau cv.VideoWriter_fourcc(*'MJPG')` untuk MJPG."
   ]
  },
  {
   "cell_type": "code",
   "execution_count": 4,
   "id": "997c57af",
   "metadata": {},
   "outputs": [],
   "source": [
    "# buat video\n",
    "video= cv2.VideoCapture(0)\n",
    "# defenisikan codec dan buat video objek\n",
    "fourcc = cv2.VideoWriter_fourcc(*'MJPG')\n",
    "simpan = cv2.VideoWriter('video_simpan.avi',fourcc,20.0, (640,480))\n",
    "\n",
    "while True:\n",
    "    # baca frame demi frame\n",
    "    ret, frame = video.read(0)\n",
    "    \n",
    "    # simpan video\n",
    "    simpan.write(frame)\n",
    "    \n",
    "    # tampilkan frame video\n",
    "    cv2.imshow('frame', frame)\n",
    "    \n",
    "    # tekan ESC untuk keluar\n",
    "    if cv2.waitKey(1)==27:\n",
    "        break\n",
    "# release video\n",
    "video.release()\n",
    "# tutup semua frame\n",
    "cv2.destroyAllWindows()"
   ]
  },
  {
   "cell_type": "code",
   "execution_count": null,
   "id": "c284e952",
   "metadata": {},
   "outputs": [],
   "source": []
  }
 ],
 "metadata": {
  "kernelspec": {
   "display_name": "vision",
   "language": "python",
   "name": "vision"
  },
  "language_info": {
   "codemirror_mode": {
    "name": "ipython",
    "version": 3
   },
   "file_extension": ".py",
   "mimetype": "text/x-python",
   "name": "python",
   "nbconvert_exporter": "python",
   "pygments_lexer": "ipython3",
   "version": "3.8.8"
  }
 },
 "nbformat": 4,
 "nbformat_minor": 5
}
