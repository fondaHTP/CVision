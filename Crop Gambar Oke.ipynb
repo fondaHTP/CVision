{
 "cells": [
  {
   "cell_type": "markdown",
   "id": "0af6ab99",
   "metadata": {},
   "source": [
    "# TRANSFORMASI CITRA \n",
    "## CROPP IMAGE (Memotong CItra) \n",
    "\n",
    "### image[start_x:end_x, start_y:end_y]\n",
    "- start_x: koordinat x mulai\n",
    "- end_x: koordinat x akhir\n",
    "- start_y: koordinat y mulai\n",
    "- end_y: koordinat y akhir\n"
   ]
  },
  {
   "cell_type": "code",
   "execution_count": 1,
   "id": "a3ba454d",
   "metadata": {},
   "outputs": [],
   "source": [
    "import cv2\n",
    "import numpy as np"
   ]
  },
  {
   "cell_type": "code",
   "execution_count": 3,
   "id": "893c2386",
   "metadata": {},
   "outputs": [
    {
     "data": {
      "text/plain": [
       "(321, 481, 3)"
      ]
     },
     "execution_count": 3,
     "metadata": {},
     "output_type": "execute_result"
    }
   ],
   "source": [
    "gambar=cv2.imread('berdua.jpg')\n",
    "gambar.shape\n"
   ]
  },
  {
   "cell_type": "code",
   "execution_count": 4,
   "id": "69b44490",
   "metadata": {},
   "outputs": [],
   "source": [
    "cv2.imshow('Gambar asli',gambar)\n",
    "\n",
    "cv2.waitKey()\n",
    "cv2.destroyAllWindows()"
   ]
  },
  {
   "cell_type": "code",
   "execution_count": 18,
   "id": "fdd9f2e8",
   "metadata": {},
   "outputs": [],
   "source": [
    "gambar_cropped = gambar[0:681, 200:731]\n"
   ]
  },
  {
   "cell_type": "code",
   "execution_count": 19,
   "id": "3c022207",
   "metadata": {},
   "outputs": [
    {
     "data": {
      "text/plain": [
       "(321, 281, 3)"
      ]
     },
     "execution_count": 19,
     "metadata": {},
     "output_type": "execute_result"
    }
   ],
   "source": [
    "gambar_cropped.shape"
   ]
  },
  {
   "cell_type": "code",
   "execution_count": 20,
   "id": "a0f0c3a9",
   "metadata": {},
   "outputs": [],
   "source": [
    "cv2.imshow('Gambar asli',gambar)\n",
    "cv2.imshow(\"Gambar yang di potong\", gambar_cropped)\n",
    "cv2.waitKey()\n",
    "cv2.destroyAllWindows()"
   ]
  },
  {
   "cell_type": "markdown",
   "id": "c0d92e74",
   "metadata": {},
   "source": [
    "## Menggunakan [SelectROI()](https://docs.opencv.org/4.5.2/d7/dfc/group__highgui.html#ga2e2256794d0c88f4cfc4fdd7890c9794)"
   ]
  },
  {
   "cell_type": "code",
   "execution_count": 21,
   "id": "a5ac3460",
   "metadata": {},
   "outputs": [
    {
     "name": "stdout",
     "output_type": "stream",
     "text": [
      "(241, 0, 240, 282)\n"
     ]
    },
    {
     "data": {
      "text/plain": [
       "-1"
      ]
     },
     "execution_count": 21,
     "metadata": {},
     "output_type": "execute_result"
    }
   ],
   "source": [
    "# panggil fungsi ROI \n",
    "\n",
    "gambar_roi = cv2.selectROI(gambar)\n",
    "\n",
    "# tampilkan titil roi\n",
    "print(gambar_roi)\n",
    "\n",
    "# potong gambar yang dipilih dengan roi\n",
    "gambar_cropped = gambar[int(gambar_roi[1]):int(gambar_roi[1]+gambar_roi[3]), int(gambar_roi[0]):int(gambar_roi[0]+gambar_roi[2])]\n",
    "\n",
    "# tampilkan gambar yang dipotong\n",
    "cv2.imshow(\"ROI\", gambar_cropped)\n",
    "\n",
    "cv2.waitKey(0)\n"
   ]
  },
  {
   "cell_type": "code",
   "execution_count": 5,
   "id": "d1406548",
   "metadata": {},
   "outputs": [
    {
     "data": {
      "text/plain": [
       "True"
      ]
     },
     "execution_count": 5,
     "metadata": {},
     "output_type": "execute_result"
    }
   ],
   "source": [
    " cv2.imwrite('Fruit Noises.jpg',gambar_cropped)"
   ]
  },
  {
   "cell_type": "code",
   "execution_count": null,
   "id": "17a2cba7",
   "metadata": {},
   "outputs": [],
   "source": []
  }
 ],
 "metadata": {
  "kernelspec": {
   "display_name": "vision",
   "language": "python",
   "name": "vision"
  },
  "language_info": {
   "codemirror_mode": {
    "name": "ipython",
    "version": 3
   },
   "file_extension": ".py",
   "mimetype": "text/x-python",
   "name": "python",
   "nbconvert_exporter": "python",
   "pygments_lexer": "ipython3",
   "version": "3.8.8"
  }
 },
 "nbformat": 4,
 "nbformat_minor": 5
}
