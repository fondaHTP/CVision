{
 "cells": [
  {
   "cell_type": "markdown",
   "id": "4a624168",
   "metadata": {},
   "source": [
    "# DETEKSI DAN PENGENALAN WAJAH MENGGUNAKAN KAMERA"
   ]
  },
  {
   "cell_type": "markdown",
   "id": "c68a5a8a",
   "metadata": {},
   "source": [
    "### Langkah-Langkah:  1 - Buat Training Data, 2 - Training Model, 3 - Jalankan Pengenalan Wajah\n"
   ]
  },
  {
   "cell_type": "code",
   "execution_count": 1,
   "id": "7efb07d6",
   "metadata": {},
   "outputs": [],
   "source": [
    "# import library\n",
    "import numpy as np\n",
    "import cv2\n",
    "import os"
   ]
  },
  {
   "cell_type": "markdown",
   "id": "8ac3872b",
   "metadata": {},
   "source": [
    "# 1. Membuat Training Data"
   ]
  },
  {
   "cell_type": "code",
   "execution_count": 2,
   "id": "3e502888",
   "metadata": {},
   "outputs": [],
   "source": [
    "# Baca LBP Cascade\n",
    "lbpcascade_frontalface = 'lbpcascades/lbpcascade_frontalface.xml'"
   ]
  },
  {
   "cell_type": "code",
   "execution_count": 3,
   "id": "c7d5363d",
   "metadata": {},
   "outputs": [],
   "source": [
    "# fungsi deteksi wajah pada opencv\n",
    "def detek_wajah(input_gbr):\n",
    "    # konversi gambar ke kabuan\n",
    "    gbr = cv2.cvtColor(input_gbr, cv2.COLOR_BGR2GRAY)\n",
    "    \n",
    "    # klasifikasi cascade\n",
    "    cascade_wajah = cv2.CascadeClassifier(lbpcascade_frontalface)\n",
    "    \n",
    "    # deteksi dengan multiscale \n",
    "    wajah = cascade_wajah.detectMultiScale(gbr, scaleFactor=1.2, minNeighbors=3);\n",
    "    \n",
    "    #jika tidak ada wajah terdeteksi kembali ke gambar yang asli\n",
    "    if (len(wajah) == 0):\n",
    "        return None, None\n",
    "    \n",
    "    # ekstrak area wajah\n",
    "    (x, y, w, h) = wajah[0]\n",
    "    # kembalikan hanya bagian wajah dari gambar\n",
    "    return gbr[y:y+w, x:x+h], wajah[0]"
   ]
  },
  {
   "cell_type": "code",
   "execution_count": 4,
   "id": "8f2dc047",
   "metadata": {},
   "outputs": [],
   "source": [
    "# buat kotak persegi untuk deteksi wajah\n",
    "def gbr_persegi(gbr, persegi):\n",
    "    # gambar persegi pada wajah yang terdeteksi\n",
    "    (x, y, w, h) = persegi\n",
    "    cv2.rectangle(gbr, (x, y), (x+w, y+h), (0, 255, 255), 3)\n",
    "\n",
    "def gbr_text(gbr, text, x, y):\n",
    "    # tampilkana tek pada wajah yang terdeteksi\n",
    "        cv2.putText(gbr, text, (x, y), cv2.FONT_HERSHEY_PLAIN, 1.5, (0, 255, 0), 2)"
   ]
  },
  {
   "cell_type": "code",
   "execution_count": 23,
   "id": "b931097c",
   "metadata": {},
   "outputs": [],
   "source": [
    "# merekam wajah pada training data\n",
    "\n",
    "# buka webcam dan baca setiap frame.\n",
    "video = cv2.VideoCapture(0)\n",
    "jumlah = 0\n",
    "while True:\n",
    "    # baca setiap frame\n",
    "    ret, frame = video.read()\n",
    "    # deteksi wajah\n",
    "    #Setiap frame melewati fungsi detek_wajah\n",
    "    wajah_pilih, persegi = detek_wajah(frame)\n",
    "    # hindari wajah terdeteksi\n",
    "    # jika wawjah terdeteksi,  \n",
    "    if wajah_pilih is not None:\n",
    "        jumlah +=1\n",
    "        # Buat frame\n",
    "        gbr_persegi(frame, persegi)\n",
    "        # wajah terdeteksi disimpan dalam folder yang akan digunakan untuk pelatihan.\n",
    "        cv2.imwrite(\"rekam_wajah/0/\"+str(jumlah)+ \".jpg\", wajah_pilih)\n",
    "    # tampilkan frame     \n",
    "    cv2.imshow(\"frame\", frame)\n",
    "    # Escape untuk keluar\n",
    "    if cv2.waitKey(1)==27:\n",
    "        break\n",
    "# release video        \n",
    "video.release()\n",
    "cv2.destroyAllWindows() "
   ]
  },
  {
   "cell_type": "markdown",
   "id": "d89ce4f1",
   "metadata": {},
   "source": [
    "# 2. Training Model"
   ]
  },
  {
   "cell_type": "code",
   "execution_count": 5,
   "id": "12c7ba16",
   "metadata": {},
   "outputs": [
    {
     "name": "stdout",
     "output_type": "stream",
     "text": [
      "Total wajah:  864\n",
      "Total label:  864\n",
      "Pelatihan Model Berhasil\n"
     ]
    }
   ],
   "source": [
    "# Baca gambar dari folder dan siapkan set pelatihan dan label masing-masing\n",
    "deteksi_wajah = []\n",
    "label_wajah = []\n",
    "\n",
    "def prepare_training_data(path_training_data):\n",
    "    \n",
    "    # baca gambar dari folder dan siapkan set data pelatihan\n",
    "    #  mengembalikan daftar wajah dan label yang terdeteksi\n",
    "    \n",
    "    gambar_training = os.listdir(path_training_data)\n",
    "    \n",
    "    # tenelusuri setiap direktori dan membaca gambar di dalamnya\n",
    "    for nama_di_direktori in gambar_training:\n",
    "        label = int(nama_di_direktori)\n",
    "        path_training_gbr = path_training_data + \"/\" + nama_di_direktori\n",
    "        nama_training_gbr = os.listdir(path_training_gbr)\n",
    "        \n",
    "        # menelusuri setiap nama gambar, membaca gambar,\n",
    "        # deteksi wajah dan tambahkan wajah ke daftar wajah\n",
    "        for image_name in nama_training_gbr:\n",
    "            gbr_path = path_training_gbr  + \"/\" + image_name\n",
    "            gambar = cv2.imread(gbr_path, 0)\n",
    "            deteksi_wajah.append(gambar)\n",
    "            label_wajah.append(label)\n",
    "\n",
    "    return deteksi_wajah, label_wajah\n",
    "\n",
    "# siapkan data pelatihan\n",
    "# data akan berada dalam dua daftar dengan ukuran yang sama\n",
    "# satu daftar akan berisi semua wajah\n",
    "# dan daftar lainnya akan berisi label masing-masing untuk setiap wajah\n",
    "deteksi_wajah, label_wajah = prepare_training_data('rekam_wajah')\n",
    "\n",
    "# buat pengenal wajah LBPH\n",
    "lbphfaces_recognizer = cv2.face. LBPHFaceRecognizer_create(radius=2, neighbors=3)\n",
    "\n",
    "# latih pengenalan wajah dari wajah latihan \n",
    "lbphfaces_recognizer.train(deteksi_wajah, np.array(label_wajah))\n",
    "\n",
    "# print total label dan wajah yang di training\n",
    "print(\"Total wajah: \", len(deteksi_wajah))\n",
    "print(\"Total label: \", len(label_wajah))\n",
    "print(\"Pelatihan Model Berhasil\")"
   ]
  },
  {
   "cell_type": "markdown",
   "id": "a5226525",
   "metadata": {},
   "source": [
    "# 3. Jalankan Pengenalan Wajah"
   ]
  },
  {
   "cell_type": "code",
   "execution_count": 7,
   "id": "0f25cdc3",
   "metadata": {},
   "outputs": [],
   "source": [
    "# buka webcam, baca setiap frame dan berikan ke model terlatih. \n",
    "# Untuk prediksi biner: Jika nilai keyakinan prediksi kurang dari nilai ambang batas \n",
    "# maka atur teks label sama dengan nama pengguna  selain itu tidak diketahui. \n",
    "# Untuk prediksi multikelas: atur label_text ke label\n",
    "# buka webcam\n",
    "import datetime as dt\n",
    "sekarang=dt.datetime.now()\n",
    "video = cv2.VideoCapture(0)\n",
    "\n",
    "while True:\n",
    "    #jalankan video\n",
    "    ret, frame = video.read()\n",
    "    \n",
    "    nama = ['Saya', 'Nanda']\n",
    "    display_time=sekarang.strftime('%d/%m/%y %H:%M:%S')\n",
    "    cv2.putText(frame,display_time,(10,30),cv2.FONT_HERSHEY_COMPLEX_SMALL,1,(0,0,255),1)\n",
    "    # wajah input sama dengan wajah di data-training\n",
    "    wajah_pilih, persegi = detek_wajah(frame)\n",
    "    \n",
    "    if wajah_pilih is not None:\n",
    "        # nama wajah yang sesuai katagori\n",
    "        label= lbphfaces_recognizer.predict(wajah_pilih)\n",
    "        \n",
    "        # nilai keyakinan prodiksi kurang dari nilai ambang batas maka atur teks label sama dengan nama pengguna\n",
    "        if label[1]<75:\n",
    "            # nama teks yang sesuai dengan label\n",
    "            label_text = nama[label[0]]\n",
    "        \n",
    "        # selain itu tidak dikenal\n",
    "        else: \n",
    "            label_text = 'Tidak dikenal'\n",
    "        # Buat persegi dan teks sebagai penanda    \n",
    "        gbr_persegi(frame, persegi)\n",
    "        if label[1]<75:\n",
    "            gbr_text(frame, label_text, persegi[0], persegi[1]-1)\n",
    "        else:\n",
    "            gbr_text(frame, label_text, persegi[0], persegi[1]-5)\n",
    "    cv2.imshow(\"frame\", frame)\n",
    "    #escape untuk keluar\n",
    "    if cv2.waitKey(1)==27:\n",
    "        break\n",
    "video.release()\n",
    "cv2.destroyAllWindows()"
   ]
  },
  {
   "cell_type": "code",
   "execution_count": null,
   "id": "d42975ce",
   "metadata": {},
   "outputs": [],
   "source": []
  }
 ],
 "metadata": {
  "kernelspec": {
   "display_name": "vision",
   "language": "python",
   "name": "vision"
  },
  "language_info": {
   "codemirror_mode": {
    "name": "ipython",
    "version": 3
   },
   "file_extension": ".py",
   "mimetype": "text/x-python",
   "name": "python",
   "nbconvert_exporter": "python",
   "pygments_lexer": "ipython3",
   "version": "3.8.8"
  }
 },
 "nbformat": 4,
 "nbformat_minor": 5
}
