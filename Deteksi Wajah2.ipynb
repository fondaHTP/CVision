{
 "cells": [
  {
   "cell_type": "markdown",
   "id": "9a974285",
   "metadata": {},
   "source": [
    "# DETEKSI WAJAH  (FACE DETECTION) dengan  HAAR CASCADES\n",
    "\n",
    "## Deteksi Objek menggunakan pengklasifikasi kaskade berbasis fitur Haar adalah metode deteksi objek efektif yang diusulkan oleh Paul Viola dan Michael Jones. Metode ini  adalah pendekatan berbasis pembelajaran mesin di mana a fungsi cascade dilatih dari banyak gambar positif dan negatif. Ini kemudian digunakan untuk mendeteksi objek dalam gambar lain.\n",
    "\n",
    "### Langkah dalam proses openCV adalah:\n",
    "- Gambar -> Konversi ke abuan -> Download Cascade model xml file -> Masukkan Gambar -> Deteksi MultiScale\n",
    "\n",
    "### detectedObjects = cv2.CascadeClassifier.detectMultiScale(image, [scaleFactor, minNeighbors, flags, minSize, maxSize])\n",
    "\n",
    "- scaleFactor memutuskan sejauh mana gambar akan diubah ukurannya pada setiap iterasi. Ini membantu dalam mendeteksi wajah dengan ukuran berbeda yang ada dalam gambar masukan.\n",
    "- minNeighbors adalah argumen lain yang memutuskan jumlah minimum persegi tetangga yang harus dipertimbangkan untuk dideteksi. minSize dan maxSize menentukan ukuran minimum dan maksimum wajah yang akan dideteksi. Setiap wajah dengan ukuran yang terletak di luar kisaran ini akan diabaikan.\n",
    "- Output dari fungsi ini adalah daftar persegi panjang (atau kotak pembatas) yang berisi wajah yang ada dalam gambar. Kita dapat menggunakan fungsi menggambar OpenCV – cv2.rectangle – untuk menggambar persegi panjang ini pada gambar"
   ]
  },
  {
   "cell_type": "markdown",
   "id": "d1c98aad",
   "metadata": {},
   "source": [
    "# DETEKSI WAJAH"
   ]
  },
  {
   "cell_type": "code",
   "execution_count": 1,
   "id": "6163df21",
   "metadata": {},
   "outputs": [],
   "source": [
    "import cv2\n",
    "import numpy as np\n",
    "berdua = 'berdua.jpg'\n",
    "italy = 'azury squad.jpg'"
   ]
  },
  {
   "cell_type": "code",
   "execution_count": 2,
   "id": "5b6c4da7",
   "metadata": {},
   "outputs": [],
   "source": [
    "input_berdua = cv2.imread(berdua)\n",
    "input_italy = cv2.imread(italy)"
   ]
  },
  {
   "cell_type": "code",
   "execution_count": 3,
   "id": "5be5e4b4",
   "metadata": {},
   "outputs": [],
   "source": [
    "# Tentukan path haarcascade\n",
    "haarcascadepath='../haarcascades/haarcascade_frontalface_default.xml'"
   ]
  },
  {
   "cell_type": "code",
   "execution_count": 4,
   "id": "2783a5e8",
   "metadata": {},
   "outputs": [],
   "source": [
    "# konversi keabuan\n",
    "berdua_keabuan=cv2.cvtColor(input_berdua,cv2.COLOR_BGR2GRAY)\n",
    "italy_keabuan=cv2.cvtColor(input_italy,cv2.COLOR_BGR2GRAY)"
   ]
  },
  {
   "cell_type": "code",
   "execution_count": 5,
   "id": "f17d9ba1",
   "metadata": {},
   "outputs": [],
   "source": [
    "# aktifkan haarcascade\n",
    "haarcascade=cv2.CascadeClassifier(haarcascadepath)"
   ]
  },
  {
   "cell_type": "code",
   "execution_count": 6,
   "id": "74a1658c",
   "metadata": {},
   "outputs": [],
   "source": [
    "# proses deteksi membuat persegi\n",
    "def deteksi_wajah(gbr):    \n",
    "    face_gbr=gbr.copy()\n",
    "    # proses deteksi dengan multiscala\n",
    "    face_detect = haarcascade.detectMultiScale(face_gbr,scaleFactor=1.2, minNeighbors=2) \n",
    "    \n",
    "    # buat persegi untuk deteksi wajah\n",
    "    for (x,y,w,h) in face_detect:\n",
    "        cv2.rectangle(face_gbr,(x,y),(x+w,y+h),(0,255,2555),5)\n",
    "    return face_gbr"
   ]
  },
  {
   "cell_type": "code",
   "execution_count": 7,
   "id": "a0dd6bdf",
   "metadata": {
    "scrolled": true
   },
   "outputs": [],
   "source": [
    "# tampil hasil deteksi\n",
    "cv2.imshow('Deteksi_Wajah',deteksi_wajah(input_berdua))\n",
    "\n",
    "cv2.waitKey()\n",
    "cv2.destroyAllWindows()"
   ]
  },
  {
   "cell_type": "code",
   "execution_count": 10,
   "id": "e94ca2a4",
   "metadata": {},
   "outputs": [],
   "source": [
    "# tampil hasil deteksi\n",
    "cv2.imshow('Deteksi_Wajah',deteksi_wajah(input_italy))\n",
    "\n",
    "cv2.waitKey()\n",
    "cv2.destroyAllWindows()"
   ]
  },
  {
   "cell_type": "markdown",
   "id": "b9b39f05",
   "metadata": {},
   "source": [
    "## DETEKSI SENYUM (SMILE DETECTION)"
   ]
  },
  {
   "cell_type": "code",
   "execution_count": 57,
   "id": "e181e08c",
   "metadata": {},
   "outputs": [],
   "source": [
    "berdua = 'berdua.jpg'\n",
    "input_berdua=cv2.imread(berdua)"
   ]
  },
  {
   "cell_type": "code",
   "execution_count": 58,
   "id": "142b35ef",
   "metadata": {},
   "outputs": [],
   "source": [
    "berdua_keabuan=cv2.cvtColor(input_berdua,cv2.COLOR_BGR2GRAY)"
   ]
  },
  {
   "cell_type": "code",
   "execution_count": 59,
   "id": "3d8d4a43",
   "metadata": {},
   "outputs": [],
   "source": [
    "# Tentukan path haarcascade\n",
    "haarcascadepath1 ='../haarcascades/haarcascade_smile.xml'\n",
    "# aktifkan haarcascade\n",
    "haarcascade=cv2.CascadeClassifier(haarcascadepath1)"
   ]
  },
  {
   "cell_type": "code",
   "execution_count": 60,
   "id": "ac408d5b",
   "metadata": {},
   "outputs": [],
   "source": [
    "# proses deteksi dengan multiscala\n",
    "smile_detect = haarcascade.detectMultiScale(berdua_keabuan,scaleFactor=1.7, minNeighbors=9)"
   ]
  },
  {
   "cell_type": "code",
   "execution_count": 61,
   "id": "f5ae341c",
   "metadata": {},
   "outputs": [],
   "source": [
    "for senyum in smile_detect:\n",
    "    x,y,w,h = senyum\n",
    "    cv2.rectangle(input_berdua,(x,y), (x+w, y+h), (0,255,255),3)\n"
   ]
  },
  {
   "cell_type": "code",
   "execution_count": 9,
   "id": "b683b893",
   "metadata": {},
   "outputs": [],
   "source": [
    "cv2.imshow('Deteksi Senyum', input_berdua)\n",
    "cv2.waitKey()\n",
    "cv2.destroyAllWindows()"
   ]
  },
  {
   "cell_type": "code",
   "execution_count": null,
   "id": "216a3d0e",
   "metadata": {},
   "outputs": [],
   "source": []
  }
 ],
 "metadata": {
  "kernelspec": {
   "display_name": "vision",
   "language": "python",
   "name": "vision"
  },
  "language_info": {
   "codemirror_mode": {
    "name": "ipython",
    "version": 3
   },
   "file_extension": ".py",
   "mimetype": "text/x-python",
   "name": "python",
   "nbconvert_exporter": "python",
   "pygments_lexer": "ipython3",
   "version": "3.8.8"
  }
 },
 "nbformat": 4,
 "nbformat_minor": 5
}
