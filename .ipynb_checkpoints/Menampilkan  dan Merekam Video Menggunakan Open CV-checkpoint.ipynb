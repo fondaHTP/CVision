{
 "cells": [
  {
   "cell_type": "markdown",
   "id": "c6399c47",
   "metadata": {},
   "source": [
    "# MENAMPILKAN VIDEO\n",
    "\n",
    "### cv2.VideoCapture() \n",
    "\n",
    "Langkah-langkah untuk merekam video:\n",
    "\n",
    "- Gunakan cv2.VideoCapture() untuk mendapatkan objek pengambilan video untuk kamera.\n",
    "- Siapkan loop while tak terbatas dan gunakan metode read() untuk membaca frame menggunakan objek yang dibuat di atas.\n",
    "- Gunakan metode cv2.imshow() untuk menampilkan frame dalam video.\n",
    "- Memutus loop ketika pengguna mengklik kunci tertentu."
   ]
  },
  {
   "cell_type": "code",
   "execution_count": 2,
   "id": "1b7dd420",
   "metadata": {},
   "outputs": [],
   "source": [
    "import cv2\n",
    "import numpy as np"
   ]
  },
  {
   "cell_type": "code",
   "execution_count": 3,
   "id": "743571b2",
   "metadata": {},
   "outputs": [],
   "source": [
    "# create video\n",
    "cap = cv2.VideoCapture(0) \n",
    "\n",
    "while True: \n",
    "    # baca frame demi frame\n",
    "    ret, frame = cap.read(0)\n",
    "    \n",
    "    # tampilkan frame (video) \n",
    "    cv2.imshow('frame', frame)\n",
    "    \n",
    "    # tekan ESC untuk keluar\n",
    "    if cv2.waitKey(1) == 27:\n",
    "            break \n",
    "\n",
    "# relase video \n",
    "cap.release() \n",
    "# tutup semua frame\n",
    "cv2.destroyAllWindows()"
   ]
  },
  {
   "cell_type": "markdown",
   "id": "fefeb35c",
   "metadata": {},
   "source": [
    "# MEMBACA FILE VIDEO"
   ]
  },
  {
   "cell_type": "code",
   "execution_count": 6,
   "id": "0bd298a3",
   "metadata": {},
   "outputs": [],
   "source": [
    "import cv2\n",
    "import numpy as np\n",
    "\n",
    "# panggil video di folder\n",
    "cap = cv2.VideoCapture('Traffic.avi') \n",
    "\n",
    "while True: \n",
    "    \n",
    "    ret, frame = cap.read() \n",
    "    if ret == True: \n",
    "        cv2.imshow('frame', frame)\n",
    " \n",
    "        if cv2.waitKey(1) == 27:\n",
    "            break \n",
    "    else: \n",
    "        break       \n",
    "cap.release() \n",
    "cv2.destroyAllWindows()"
   ]
  },
  {
   "cell_type": "markdown",
   "id": "46c68e29",
   "metadata": {},
   "source": [
    "# MEREKAM GAMBAR VIDEO\n",
    "\n",
    "Kali ini kita membuat objek VideoWriter. Kita harus menentukan nama file output (misalnya: Video_Simpan.avi). Kemudian kita harus menentukan kode FourCC. Kemudian jumlah frame per detik (fps) dan ukuran frame harus dilewati. Dan yang terakhir adalah bendera isColor. Jika Benar, encoder mengharapkan bingkai warna, jika tidak, ia bekerja dengan bingkai skala abu-abu.\n",
    "\n",
    "FourCC adalah kode 4-byte yang digunakan untuk menentukan codec video. Daftar kode yang tersedia dapat ditemukan di fourcc.org. Ini tergantung pada platform. Codec berikut berfungsi dengan baik untuk saya.\n",
    "\n",
    "Di Fedora: DIVX, XVID, MJPG, X264, WMV1, WMV2. (XVID lebih disukai. MJPG menghasilkan video ukuran tinggi. X264 memberikan video ukuran sangat kecil)\n",
    "Di Windows: DIVX (Lebih banyak untuk diuji dan ditambahkan)\n",
    "Di OSX: MJPG (.mp4), DIVX (.avi), X264 (.mkv).\n",
    "Kode FourCC diteruskan sebagai `cv.VideoWriter_fourcc('M','J','P','G')atau cv.VideoWriter_fourcc(*'MJPG')` untuk MJPG."
   ]
  },
  {
   "cell_type": "code",
   "execution_count": 9,
   "id": "59a557a5",
   "metadata": {},
   "outputs": [],
   "source": [
    "cap = cv2.VideoCapture(0) \n",
    "# defenisikan codec dan create video objek\n",
    "fourcc = cv2.VideoWriter_fourcc(*'MJPG')\n",
    "simpan = cv2.VideoWriter('video_Simpan.avi', fourcc, 20.0, (640,  480))\n",
    "\n",
    "while True: \n",
    "    \n",
    "    ret, frame = cap.read(0) \n",
    "    simpan.write(frame) \n",
    "    cv2.imshow('Simpan Video', frame)\n",
    " \n",
    "    \n",
    "    if cv2.waitKey(1) == 27:\n",
    "        break\n",
    "        \n",
    "cap.release() \n",
    "simpan.release()\n",
    "cv2.destroyAllWindows()"
   ]
  }
 ],
 "metadata": {
  "kernelspec": {
   "display_name": "vision",
   "language": "python",
   "name": "vision"
  },
  "language_info": {
   "codemirror_mode": {
    "name": "ipython",
    "version": 3
   },
   "file_extension": ".py",
   "mimetype": "text/x-python",
   "name": "python",
   "nbconvert_exporter": "python",
   "pygments_lexer": "ipython3",
   "version": "3.8.12"
  }
 },
 "nbformat": 4,
 "nbformat_minor": 5
}
